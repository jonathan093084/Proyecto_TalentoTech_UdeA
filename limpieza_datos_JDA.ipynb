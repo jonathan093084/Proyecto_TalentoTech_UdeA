{
  "cells": [
    {
      "cell_type": "markdown",
      "metadata": {
        "colab_type": "text",
        "id": "view-in-github"
      },
      "source": [
        "<a href=\"https://colab.research.google.com/github/jonathan093084/analisis_datos/blob/main/Clase_Julio_01.ipynb\" target=\"_parent\"><img src=\"https://colab.research.google.com/assets/colab-badge.svg\" alt=\"Open In Colab\"/></a>"
      ]
    },
    {
      "cell_type": "markdown",
      "metadata": {
        "id": "RS91IIH3YEPD"
      },
      "source": [
        "Revision y Limpieza de Datos"
      ]
    },
    {
      "cell_type": "code",
      "execution_count": 16,
      "metadata": {
        "colab": {
          "base_uri": "https://localhost:8080/",
          "height": 300
        },
        "id": "P8HEWN_pX0EQ",
        "outputId": "e94ec5bc-8b59-471b-b3fb-b368ba6c0bdb"
      },
      "outputs": [],
      "source": [
        "# Abrir el archivo e importar la data\n",
        "import pandas as pd\n",
        "df=pd.read_csv(\"salaries.csv\")"
      ]
    },
    {
      "cell_type": "code",
      "execution_count": 17,
      "metadata": {},
      "outputs": [
        {
          "name": "stdout",
          "output_type": "stream",
          "text": [
            "           work_year        salary  salary_in_usd   remote_ratio\n",
            "count  136757.000000  1.367570e+05  136757.000000  136757.000000\n",
            "mean     2024.374686  1.630432e+05  157490.722756      20.909716\n",
            "std         0.679644  2.150435e+05   74173.546839      40.594326\n",
            "min      2020.000000  1.400000e+04   15000.000000       0.000000\n",
            "25%      2024.000000  1.060000e+05  105900.000000       0.000000\n",
            "50%      2024.000000  1.470000e+05  146000.000000       0.000000\n",
            "75%      2025.000000  1.988000e+05  197800.000000       0.000000\n",
            "max      2025.000000  3.040000e+07  800000.000000     100.000000\n"
          ]
        }
      ],
      "source": [
        "#Se realiza la estadistica descriptiva de los datos\n",
        "print(df.describe())"
      ]
    },
    {
      "cell_type": "code",
      "execution_count": 18,
      "metadata": {},
      "outputs": [
        {
          "name": "stdout",
          "output_type": "stream",
          "text": [
            "<class 'pandas.core.frame.DataFrame'>\n",
            "RangeIndex: 136757 entries, 0 to 136756\n",
            "Data columns (total 11 columns):\n",
            " #   Column              Non-Null Count   Dtype \n",
            "---  ------              --------------   ----- \n",
            " 0   work_year           136757 non-null  int64 \n",
            " 1   experience_level    136757 non-null  object\n",
            " 2   employment_type     136757 non-null  object\n",
            " 3   job_title           136757 non-null  object\n",
            " 4   salary              136757 non-null  int64 \n",
            " 5   salary_currency     136757 non-null  object\n",
            " 6   salary_in_usd       136757 non-null  int64 \n",
            " 7   employee_residence  136757 non-null  object\n",
            " 8   remote_ratio        136757 non-null  int64 \n",
            " 9   company_location    136757 non-null  object\n",
            " 10  company_size        136757 non-null  object\n",
            "dtypes: int64(4), object(7)\n",
            "memory usage: 11.5+ MB\n",
            "None\n"
          ]
        }
      ],
      "source": [
        "#Mostramos un resumen de la información del DataFrame\n",
        "# Esto incluye el número de entradas, el tipo de datos de cada columna y la cantidad de valores no nulos     \n",
        "print(df.info())"
      ]
    },
    {
      "cell_type": "code",
      "execution_count": 19,
      "metadata": {},
      "outputs": [
        {
          "name": "stdout",
          "output_type": "stream",
          "text": [
            "work_year             0\n",
            "experience_level      0\n",
            "employment_type       0\n",
            "job_title             0\n",
            "salary                0\n",
            "salary_currency       0\n",
            "salary_in_usd         0\n",
            "employee_residence    0\n",
            "remote_ratio          0\n",
            "company_location      0\n",
            "company_size          0\n",
            "dtype: int64\n"
          ]
        }
      ],
      "source": [
        "#Revisamos si hay valores nulos en el DataFrame\n",
        "print(df.isnull().sum())\n"
      ]
    },
    {
      "cell_type": "code",
      "execution_count": 20,
      "metadata": {},
      "outputs": [
        {
          "name": "stdout",
          "output_type": "stream",
          "text": [
            "work_year              int64\n",
            "experience_level      object\n",
            "employment_type       object\n",
            "job_title             object\n",
            "salary                 int64\n",
            "salary_currency       object\n",
            "salary_in_usd          int64\n",
            "employee_residence    object\n",
            "remote_ratio           int64\n",
            "company_location      object\n",
            "company_size          object\n",
            "dtype: object\n"
          ]
        }
      ],
      "source": [
        "#Revisamos los tipos de datos de cada columna\n",
        "# Esto es útil para asegurarnos de que los datos estén en el formato correcto para el análisis\n",
        "print(df.dtypes)"
      ]
    },
    {
      "cell_type": "code",
      "execution_count": 22,
      "metadata": {},
      "outputs": [
        {
          "name": "stdout",
          "output_type": "stream",
          "text": [
            "experience_level        4\n",
            "employment_type         4\n",
            "job_title             398\n",
            "salary_currency        26\n",
            "employee_residence    102\n",
            "company_location       95\n",
            "company_size            3\n",
            "dtype: int64\n"
          ]
        }
      ],
      "source": [
        "#Revisamos los valores únicos de las columnas relevantes\n",
        "# Esto nos ayuda a entender la diversidad de datos en cada columna y detectar posibles inconsistencias  \n",
        "print(df[['experience_level',\n",
        "'employment_type',\n",
        "'job_title',\n",
        "'salary_currency',\n",
        "'employee_residence',\n",
        "'company_location',\n",
        "'company_size']].nunique())"
      ]
    },
    {
      "cell_type": "code",
      "execution_count": 3,
      "metadata": {
        "colab": {
          "base_uri": "https://localhost:8080/",
          "height": 1000
        },
        "id": "Tvmaa-BTYVHS",
        "outputId": "832872de-aaf0-497a-acdc-0be82f8f014e"
      },
      "outputs": [],
      "source": [
        "#Importo las respectivas librerias\n",
        "import pandas as pd\n",
        "import numpy as np\n",
        "import matplotlib.pyplot as plt\n",
        "import seaborn as sns\n",
        "import matplotlib.gridspec as gridspec\n",
        "\n",
        "#Convierto la columna de Order Data a tipo Fecha\n"
      ]
    }
  ],
  "metadata": {
    "colab": {
      "authorship_tag": "ABX9TyOSvu+QmjqbgA8w6rbkilkp",
      "include_colab_link": true,
      "provenance": []
    },
    "kernelspec": {
      "display_name": ".venv",
      "language": "python",
      "name": "python3"
    },
    "language_info": {
      "codemirror_mode": {
        "name": "ipython",
        "version": 3
      },
      "file_extension": ".py",
      "mimetype": "text/x-python",
      "name": "python",
      "nbconvert_exporter": "python",
      "pygments_lexer": "ipython3",
      "version": "3.13.5"
    }
  },
  "nbformat": 4,
  "nbformat_minor": 0
}
