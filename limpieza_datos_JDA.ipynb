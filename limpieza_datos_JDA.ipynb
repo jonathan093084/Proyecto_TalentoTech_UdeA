{
  "cells": [
    {
      "cell_type": "markdown",
      "metadata": {
        "colab_type": "text",
        "id": "view-in-github"
      },
      "source": [
        "<a href=\"https://colab.research.google.com/github/jonathan093084/analisis_datos/blob/main/Clase_Julio_01.ipynb\" target=\"_parent\"><img src=\"https://colab.research.google.com/assets/colab-badge.svg\" alt=\"Open In Colab\"/></a>"
      ]
    },
    {
      "cell_type": "markdown",
      "metadata": {
        "id": "RS91IIH3YEPD"
      },
      "source": [
        "Revision y Limpieza de Datos"
      ]
    },
    {
      "cell_type": "code",
      "execution_count": 6,
      "metadata": {
        "colab": {
          "base_uri": "https://localhost:8080/",
          "height": 300
        },
        "id": "P8HEWN_pX0EQ",
        "outputId": "e94ec5bc-8b59-471b-b3fb-b368ba6c0bdb"
      },
      "outputs": [],
      "source": [
        "# Abrir el archivo e importar la data\n",
        "import pandas as pd\n",
        "df=pd.read_csv(\"ai_job_dataset.csv\")"
      ]
    },
    {
      "cell_type": "code",
      "execution_count": null,
      "metadata": {},
      "outputs": [
        {
          "name": "stdout",
          "output_type": "stream",
          "text": [
            "          salary_usd  remote_ratio  years_experience  job_description_length  \\\n",
            "count   15000.000000  15000.000000      15000.000000            15000.000000   \n",
            "mean   115348.965133     49.483333          6.253200             1503.314733   \n",
            "std     60260.940438     40.812712          5.545768              576.127083   \n",
            "min     32519.000000      0.000000          0.000000              500.000000   \n",
            "25%     70179.750000      0.000000          2.000000             1003.750000   \n",
            "50%     99705.000000     50.000000          5.000000             1512.000000   \n",
            "75%    146408.500000    100.000000         10.000000             2000.000000   \n",
            "max    399095.000000    100.000000         19.000000             2499.000000   \n",
            "\n",
            "       benefits_score  \n",
            "count    15000.000000  \n",
            "mean         7.504273  \n",
            "std          1.450870  \n",
            "min          5.000000  \n",
            "25%          6.200000  \n",
            "50%          7.500000  \n",
            "75%          8.800000  \n",
            "max         10.000000  \n"
          ]
        }
      ],
      "source": [
        "#Se realiza la estadistica descriptiva de los datos\n",
        "print(df.describe())"
      ]
    },
    {
      "cell_type": "code",
      "execution_count": null,
      "metadata": {},
      "outputs": [
        {
          "name": "stdout",
          "output_type": "stream",
          "text": [
            "<class 'pandas.core.frame.DataFrame'>\n",
            "RangeIndex: 15000 entries, 0 to 14999\n",
            "Data columns (total 19 columns):\n",
            " #   Column                  Non-Null Count  Dtype  \n",
            "---  ------                  --------------  -----  \n",
            " 0   job_id                  15000 non-null  object \n",
            " 1   job_title               15000 non-null  object \n",
            " 2   salary_usd              15000 non-null  int64  \n",
            " 3   salary_currency         15000 non-null  object \n",
            " 4   experience_level        15000 non-null  object \n",
            " 5   employment_type         15000 non-null  object \n",
            " 6   company_location        15000 non-null  object \n",
            " 7   company_size            15000 non-null  object \n",
            " 8   employee_residence      15000 non-null  object \n",
            " 9   remote_ratio            15000 non-null  int64  \n",
            " 10  required_skills         15000 non-null  object \n",
            " 11  education_required      15000 non-null  object \n",
            " 12  years_experience        15000 non-null  int64  \n",
            " 13  industry                15000 non-null  object \n",
            " 14  posting_date            15000 non-null  object \n",
            " 15  application_deadline    15000 non-null  object \n",
            " 16  job_description_length  15000 non-null  int64  \n",
            " 17  benefits_score          15000 non-null  float64\n",
            " 18  company_name            15000 non-null  object \n",
            "dtypes: float64(1), int64(4), object(14)\n",
            "memory usage: 2.2+ MB\n",
            "None\n"
          ]
        }
      ],
      "source": [
        "#Mostramos un resumen de la información del DataFrame\n",
        "# Esto incluye el número de entradas, el tipo de datos de cada columna y la cantidad de valores no nulos     \n",
        "print(df.info())"
      ]
    },
    {
      "cell_type": "code",
      "execution_count": 8,
      "metadata": {},
      "outputs": [
        {
          "name": "stdout",
          "output_type": "stream",
          "text": [
            "job_id                    0\n",
            "job_title                 0\n",
            "salary_usd                0\n",
            "salary_currency           0\n",
            "experience_level          0\n",
            "employment_type           0\n",
            "company_location          0\n",
            "company_size              0\n",
            "employee_residence        0\n",
            "remote_ratio              0\n",
            "required_skills           0\n",
            "education_required        0\n",
            "years_experience          0\n",
            "industry                  0\n",
            "posting_date              0\n",
            "application_deadline      0\n",
            "job_description_length    0\n",
            "benefits_score            0\n",
            "company_name              0\n",
            "dtype: int64\n"
          ]
        }
      ],
      "source": [
        "#Revisamos si hay valores nulos en el DataFrame\n",
        "print(df.isnull().sum())\n"
      ]
    },
    {
      "cell_type": "code",
      "execution_count": 12,
      "metadata": {},
      "outputs": [
        {
          "name": "stdout",
          "output_type": "stream",
          "text": [
            "job_id                     object\n",
            "job_title                  object\n",
            "salary_usd                  int64\n",
            "salary_currency            object\n",
            "experience_level           object\n",
            "employment_type            object\n",
            "company_location           object\n",
            "company_size               object\n",
            "employee_residence         object\n",
            "remote_ratio                int64\n",
            "required_skills            object\n",
            "education_required         object\n",
            "years_experience            int64\n",
            "industry                   object\n",
            "posting_date               object\n",
            "application_deadline       object\n",
            "job_description_length      int64\n",
            "benefits_score            float64\n",
            "company_name               object\n",
            "dtype: object\n"
          ]
        }
      ],
      "source": [
        "#Revisamos los tipos de datos de cada columna\n",
        "# Esto es útil para asegurarnos de que los datos estén en el formato correcto para el análisis\n",
        "print(df.dtypes)"
      ]
    },
    {
      "cell_type": "code",
      "execution_count": 15,
      "metadata": {},
      "outputs": [
        {
          "name": "stdout",
          "output_type": "stream",
          "text": [
            "job_title                20\n",
            "salary_currency           3\n",
            "experience_level          4\n",
            "employment_type           4\n",
            "company_location         20\n",
            "company_size              3\n",
            "employee_residence       20\n",
            "remote_ratio              3\n",
            "required_skills       13663\n",
            "education_required        4\n",
            "industry                 15\n",
            "dtype: int64\n"
          ]
        }
      ],
      "source": [
        "#Revisamos los valores únicos de las columnas relevantes\n",
        "# Esto nos ayuda a entender la diversidad de datos en cada columna y detectar posibles inconsistencias  \n",
        "print(df[['job_title',\n",
        "'salary_currency',\n",
        "'experience_level',\n",
        "'employment_type',\n",
        "'company_location',\n",
        "'company_size',\n",
        "'employee_residence',\n",
        "'remote_ratio',\n",
        "'required_skills',\n",
        "'education_required',\n",
        "'industry']].nunique())"
      ]
    },
    {
      "cell_type": "code",
      "execution_count": 3,
      "metadata": {
        "colab": {
          "base_uri": "https://localhost:8080/",
          "height": 1000
        },
        "id": "Tvmaa-BTYVHS",
        "outputId": "832872de-aaf0-497a-acdc-0be82f8f014e"
      },
      "outputs": [],
      "source": [
        "#Importo las respectivas librerias\n",
        "import pandas as pd\n",
        "import numpy as np\n",
        "import matplotlib.pyplot as plt\n",
        "import seaborn as sns\n",
        "import matplotlib.gridspec as gridspec\n",
        "\n",
        "#Convierto la columna de Order Data a tipo Fecha\n"
      ]
    }
  ],
  "metadata": {
    "colab": {
      "authorship_tag": "ABX9TyOSvu+QmjqbgA8w6rbkilkp",
      "include_colab_link": true,
      "provenance": []
    },
    "kernelspec": {
      "display_name": ".venv",
      "language": "python",
      "name": "python3"
    },
    "language_info": {
      "codemirror_mode": {
        "name": "ipython",
        "version": 3
      },
      "file_extension": ".py",
      "mimetype": "text/x-python",
      "name": "python",
      "nbconvert_exporter": "python",
      "pygments_lexer": "ipython3",
      "version": "3.13.5"
    }
  },
  "nbformat": 4,
  "nbformat_minor": 0
}
