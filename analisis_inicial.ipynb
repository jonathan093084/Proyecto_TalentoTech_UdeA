{
  "cells": [
    {
      "cell_type": "markdown",
      "metadata": {
        "colab_type": "text",
        "id": "view-in-github"
      },
      "source": [
        "<a href=\"https://colab.research.google.com/github/jonathan093084/analisis_datos/blob/main/Clase_Julio_01.ipynb\" target=\"_parent\"><img src=\"https://colab.research.google.com/assets/colab-badge.svg\" alt=\"Open In Colab\"/></a>"
      ]
    },
    {
      "cell_type": "markdown",
      "metadata": {
        "id": "RS91IIH3YEPD"
      },
      "source": [
        "# **storytelling**"
      ]
    },
    {
      "cell_type": "code",
      "execution_count": 1,
      "metadata": {
        "colab": {
          "base_uri": "https://localhost:8080/",
          "height": 300
        },
        "id": "P8HEWN_pX0EQ",
        "outputId": "e94ec5bc-8b59-471b-b3fb-b368ba6c0bdb"
      },
      "outputs": [
        {
          "name": "stdout",
          "output_type": "stream",
          "text": [
            "<class 'pandas.core.frame.DataFrame'>\n",
            "RangeIndex: 15000 entries, 0 to 14999\n",
            "Data columns (total 19 columns):\n",
            " #   Column                  Non-Null Count  Dtype  \n",
            "---  ------                  --------------  -----  \n",
            " 0   job_id                  15000 non-null  object \n",
            " 1   job_title               15000 non-null  object \n",
            " 2   salary_usd              15000 non-null  int64  \n",
            " 3   salary_currency         15000 non-null  object \n",
            " 4   experience_level        15000 non-null  object \n",
            " 5   employment_type         15000 non-null  object \n",
            " 6   company_location        15000 non-null  object \n",
            " 7   company_size            15000 non-null  object \n",
            " 8   employee_residence      15000 non-null  object \n",
            " 9   remote_ratio            15000 non-null  int64  \n",
            " 10  required_skills         15000 non-null  object \n",
            " 11  education_required      15000 non-null  object \n",
            " 12  years_experience        15000 non-null  int64  \n",
            " 13  industry                15000 non-null  object \n",
            " 14  posting_date            15000 non-null  object \n",
            " 15  application_deadline    15000 non-null  object \n",
            " 16  job_description_length  15000 non-null  int64  \n",
            " 17  benefits_score          15000 non-null  float64\n",
            " 18  company_name            15000 non-null  object \n",
            "dtypes: float64(1), int64(4), object(14)\n",
            "memory usage: 2.2+ MB\n"
          ]
        }
      ],
      "source": [
        "# Abrir el archivo\n",
        "import pandas as pd\n",
        "df=pd.read_csv(\"ai_job_dataset.csv\")\n",
        "# Mostramos un resumen estadístico de los datos numéricos\n",
        "df.describe()\n",
        "df.info()"
      ]
    },
    {
      "cell_type": "code",
      "execution_count": 3,
      "metadata": {
        "colab": {
          "base_uri": "https://localhost:8080/",
          "height": 1000
        },
        "id": "Tvmaa-BTYVHS",
        "outputId": "832872de-aaf0-497a-acdc-0be82f8f014e"
      },
      "outputs": [],
      "source": [
        "#Importo las respectivas librerias\n",
        "import pandas as pd\n",
        "import numpy as np\n",
        "import matplotlib.pyplot as plt\n",
        "import seaborn as sns\n",
        "import matplotlib.gridspec as gridspec\n",
        "\n",
        "#Convierto la columna de Order Data a tipo Fecha\n"
      ]
    },
    {
      "cell_type": "markdown",
      "metadata": {},
      "source": []
    }
  ],
  "metadata": {
    "colab": {
      "authorship_tag": "ABX9TyOSvu+QmjqbgA8w6rbkilkp",
      "include_colab_link": true,
      "provenance": []
    },
    "kernelspec": {
      "display_name": ".venv",
      "language": "python",
      "name": "python3"
    },
    "language_info": {
      "codemirror_mode": {
        "name": "ipython",
        "version": 3
      },
      "file_extension": ".py",
      "mimetype": "text/x-python",
      "name": "python",
      "nbconvert_exporter": "python",
      "pygments_lexer": "ipython3",
      "version": "3.11.3"
    }
  },
  "nbformat": 4,
  "nbformat_minor": 0
}
