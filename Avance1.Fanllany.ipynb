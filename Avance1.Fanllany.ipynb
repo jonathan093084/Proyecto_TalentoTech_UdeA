{
  "cells": [
    {
      "cell_type": "markdown",
      "metadata": {
        "colab_type": "text",
        "id": "view-in-github"
      },
      "source": [
        "<a href=\"https://colab.research.google.com/github/socrisogo/bc_social_media_productivity/blob/main/Proyecto_TTECH.ipynb\" target=\"_parent\"><img src=\"https://colab.research.google.com/assets/colab-badge.svg\" alt=\"Open In Colab\"/></a>"
      ]
    },
    {
      "cell_type": "markdown",
      "metadata": {
        "id": "28-T1iv-wUKS"
      },
      "source": [
        "#Este es el formato para el proyecto TTECH\n"
      ]
    },
    {
      "cell_type": "markdown",
      "metadata": {
        "id": "COJRQt17urlO"
      },
      "source": [
        "# Presentación"
      ]
    },
    {
      "cell_type": "markdown",
      "metadata": {},
      "source": [
        "Este proyecto se enfoca en el análisis exploratorio, descriptivo y de negocio sobre el mercado laboral global en el área de inteligencia artificial y aprendizaje automático, utilizando un conjunto de datos que contiene ofertas de empleo en diferentes países. A través de un enfoque técnico dividido en varias fases (ingestión, limpieza, análisis descriptivo y análisis de negocio), se busca extraer conocimientos clave sobre salarios, demanda de habilidades, adopción del trabajo remoto y patrones geográficos."
      ]
    },
    {
      "cell_type": "markdown",
      "metadata": {
        "id": "preTo4tHv7Za"
      },
      "source": [
        "# Justificación"
      ]
    },
    {
      "cell_type": "markdown",
      "metadata": {},
      "source": [
        "Este proyecto se estructura en cuatro fases técnicas clave: ingestión de datos, preparación y limpieza, análisis descriptivo y análisis de negocio. A partir de un conjunto de datos  que simula más de 15.000 ofertas de empleo relacionadas con inteligencia artificial en más de 50 países, se trabajará en la carga eficiente de los datos, validación de su estructura y conversión de tipos. Posteriormente, se realizará la limpieza de valores nulos o inconsistentes, la normalización de variables como monedas, niveles de experiencia y categorías de trabajo, así como la transformación de fechas y estandarización de ubicaciones. En la etapa de análisis descriptivo se aplicarán técnicas estadísticas y visualizaciones para explorar distribuciones salariales, demanda de habilidades, modalidades de empleo y tendencias temporales. Finalmente, en el análisis de negocio se evaluarán variaciones salariales según tamaño de empresa, tipo de contrato, país y relación remota, además del impacto de las habilidades requeridas y la educación mínima. Este enfoque técnico permitirá generar conclusiones relevantes para modelos predictivos, inteligencia empresarial, planificación profesional y análisis de brechas laborales en el mercado global de IA para 2025."
      ]
    },
    {
      "cell_type": "markdown",
      "metadata": {},
      "source": [
        "# Preguntas de negocio"
      ]
    },
    {
      "cell_type": "markdown",
      "metadata": {},
      "source": [
        "1. Compensación y salarios\n",
        "\n",
        "¿Qué países ofrecen los salarios promedio más altos en el área de IA? \n",
        "\n",
        "¿Cómo varía el salario promedio según el nivel de experiencia (EN(Junior), MI(Intermediate), SE(Senior), EX(Director))?\n",
        "\n",
        "¿Cuál es la relación entre el tamaño de la empresa (S(Small), M(Medium), L(Large)) y el salario ofrecido?\n",
        "\n",
        "¿Qué categorías de trabajo (científico de datos, ingeniero de ML, etc.) tienen mayores salarios?\n",
        "\n",
        "¿Existe diferencia salarial significativa entre tipos de empleo (FT(Full time), PT(Part time), CT(Contract), FL(Freelance))?\n",
        "\n",
        "¿Cuál es la relación entre el porcentaje de trabajo remoto y el salario promedio?\n",
        "\n",
        "¿Qué industrias pagan más para roles de IA?\n",
        "\n",
        "2. Análisis geográfico\n",
        "\n",
        "¿Qué países concentran la mayor cantidad de ofertas laborales en IA?\n",
        "\n",
        "¿Cómo se distribuyen los tipos de contratos por país?\n",
        "\n",
        "¿Cuál es la relación entre ubicación de la empresa y residencia del empleado?\n",
        "\n",
        "¿Dónde es más frecuente el trabajo remoto o híbrido?\n",
        "\n",
        "¿Qué países tienen mayor demanda de determinadas habilidades?\n",
        "\n",
        "\n",
        "3. Tendencias y evolución del mercado\n",
        "\n",
        "¿Cómo ha evolucionado la oferta de empleo en IA a lo largo del tiempo?\n",
        "\n",
        "¿Que habilidades son mas demandadas?\n",
        "\n",
        "¿Se han incrementado las ofertas con modalidad remota?\n",
        "\n",
        "¿Cuáles son los picos de publicación de vacantes en el año?\n",
        "\n",
        "¿Se observan patrones en la duración entre la fecha de publicación y la fecha límite?"
      ]
    },
    {
      "cell_type": "markdown",
      "metadata": {
        "id": "WDH4gOfYuhWX"
      },
      "source": [
        "# Ingestión de datos"
      ]
    },
    {
      "cell_type": "code",
      "execution_count": null,
      "metadata": {
        "id": "nCOk0sODukP_"
      },
      "outputs": [],
      "source": []
    },
    {
      "cell_type": "markdown",
      "metadata": {
        "id": "TIEX6876ukhe"
      },
      "source": [
        "# Preparación y limpieza"
      ]
    },
    {
      "cell_type": "code",
      "execution_count": null,
      "metadata": {
        "id": "8hwogYeLuplI"
      },
      "outputs": [],
      "source": []
    },
    {
      "cell_type": "markdown",
      "metadata": {
        "id": "hzxIekEwu80p"
      },
      "source": [
        "# Analítica descriptiva"
      ]
    },
    {
      "cell_type": "code",
      "execution_count": null,
      "metadata": {
        "id": "pmpZ2K6YvGv3"
      },
      "outputs": [],
      "source": []
    },
    {
      "cell_type": "markdown",
      "metadata": {
        "id": "axiyTQQ3yoci"
      },
      "source": [
        "# Análisis de negocio"
      ]
    },
    {
      "cell_type": "code",
      "execution_count": null,
      "metadata": {
        "id": "A8x2uYqKyr3R"
      },
      "outputs": [],
      "source": []
    },
    {
      "cell_type": "code",
      "execution_count": null,
      "metadata": {
        "id": "C8nCqzbgvyeA"
      },
      "outputs": [],
      "source": []
    },
    {
      "cell_type": "markdown",
      "metadata": {
        "id": "4ws4ltP1vG-3"
      },
      "source": []
    },
    {
      "cell_type": "markdown",
      "metadata": {
        "id": "9_8uv7--up1_"
      },
      "source": []
    }
  ],
  "metadata": {
    "colab": {
      "include_colab_link": true,
      "provenance": []
    },
    "kernelspec": {
      "display_name": "Python 3",
      "name": "python3"
    },
    "language_info": {
      "name": "python"
    }
  },
  "nbformat": 4,
  "nbformat_minor": 0
}
